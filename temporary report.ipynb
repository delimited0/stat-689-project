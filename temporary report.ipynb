{
 "cells": [
  {
   "cell_type": "markdown",
   "metadata": {},
   "source": [
    "# Abstract:\n",
    "\n",
    "Hamiltonian Monte Carlo (HMC) is a MCMC method used to sample from intractable priors. Rate of convergence to the stationary distribution and mixing is compared to Gibbs sampling and Metropolis-Hastings algorithms. Tuning parameters of HMC are explored.\n",
    "\n",
    "\n",
    "# Introduction (JAMES YOU HAVE FOOT NOTES HERE):\n",
    "\n",
    "Hamiltonian Monte Carlo (HMC, Hybrid Monte Carlo) is an MCMC method for sampling from an intractable posterior. HMC improves upon the Metropolis-Hastings algorithm by reducing the autocorrelation of the Markov chain generated. As such, convergence is attained more quickly, reducing necessary computational time.\n",
    "\n",
    "The Hamiltonian of a physical system is the following:\n",
    "\n",
    "\n",
    "\\begin{aligned}\n",
    "H(q, p) = K + U\n",
    "\\end{aligned}\n",
    "\n",
    "Where K is the kinetic energy and U is the potential energy of the system, written in terms of momentum(p) and position (q). The following two first order differential equations are satisfied:\n",
    "\n",
    "\\begin{aligned}\n",
    "\\frac{dp}{dt} = - \\frac{\\partial H}{\\partial q} \\quad\\quad \\frac{dq}{dt} = \\frac{\\partial H}{\\partial p}\n",
    "\\end{aligned}\n",
    "\n",
    "\n",
    "\n",
    "(INSERT 2 DE HERE)\n",
    "\n",
    "\n",
    "Now consider the following joint density\n",
    "\n",
    "\\begin{aligned}\n",
    "h(p,q) = k*exp(-H)\n",
    "\\end{aligned}\n",
    "\n",
    "Where k is a normalization constant. It can easily be shown that p and q are independent by noting that the kinetic energy depends only on p, while the potential energy depends only on q.\n",
    "\n",
    "\n",
    "\\begin{aligned}\n",
    "H(q,p) &= K(p,q) + U(q)\n",
    "\\\\\n",
    "H(q,p) &= K(p) + U(q)\n",
    "\\\\\n",
    "\\pi(q, p) &= e^{-K(p) - U(q)} \n",
    "\\\\\n",
    "&= e^{-K(p)}e^{-U(q)}\n",
    "\\end{aligned}\n",
    "\n",
    "#Is this what you wanted James\n",
    "\n",
    "INDEPENDENCE DERIVATION FROM SLIDES HERE\n",
    "\n",
    "The obvious choice for potential energy is performing a negative log transform of the density f that we wish to sample from.\n",
    "\\begin{aligned}\n",
    "U = -log(f)\n",
    "\\end{aligned}\n",
    "\n",
    "As p and q are independent variables the marginal density of h is ,\n",
    "\n",
    "\\begin{aligned}\n",
    "h(q) = exp(-U)\n",
    "= exp(-(-log(f))\n",
    "= f\n",
    "\\end{aligned}\n",
    "\n",
    "Note that intractable posteriors are simply probability densities multiplied by an unknown normalization constant. Therefore the log transform has no domain issues and the potential energy approaches infinity as the density approaches zero. If the density is exactly 0 at some value, the potential energy is considered infinite).\n",
    "\n",
    "Our choice of kinetic energy is the translational, non-relativistic kinetic energy,\n",
    "\n",
    "\\begin{aligned}\n",
    "K = 0.5 m * v^2 (MAKE THIS LOOK BETTER)\n",
    "\\end{aligned}\n",
    "\n",
    "Other choices of kinetic energy may be used, for instance we could add a rotational component to the kinetic energy as well (so the physical system equivalent would be analogous to a ball rolling up and down hills as opposed to a frictionless mass sliding. However, the additional term is unnecessary and makes calculations more complicated for no gain.\n",
    "\n",
    "Now, given a starting location and momentum, it is possible to calculate the time evolution of the system (using the two first order differential equations). The system is deterministic, and after some time, we can calculate the new q and the new p. First we update momentum using half of a time step. Then we alternate updating position and momentum using full time steps. On the final update of momentum, we update with a final half time step. This guarantees that updating p(t) to p(t+1), we will use q(t+0.5), a rough estimate of the average of q between times t and t+1.\n",
    "\n",
    "However, according to Hamilton’s equations, the change of momentum depends on position, and the change of position depends on momentum. If we iterate this system using a certain number of time steps (See: leapfrog method - Appendix(SOME LETTER HERE)) an error is induced and the total energy may increase or decrease. If we make some minor adjustments*(MAKE SOME SORT OF FOOTNOTE ABOUT HOW WE DON’T REALLY DO ANYTHING, BUT THE THEORY WORKS), we may make a Metropolis-Hastings step and accept or reject the new position as another sample from the intractable prior.\n",
    "\n",
    "\n",
    "In order to ensure that the Metropolis-Hastings step is legitimate and our Markov chain converges to a stationary distribution, it is sufficient to show our Markov chain is reversible. To guarantee time reversibility of a physical system, the transition operator must reverse the momentum after the last step of the leapfrog algorithm (Figure WHATEVER THE FIGURE IS THAT HAS A PHASE SPACE DIAGRAM). However, since our kinetic energy is a function of the square of p, rather than just p, no changes are necessary in the code.\n",
    "\n",
    "To convince yourself that changing the sign of momentum at the end of the time transition guarantees time reversibility, imagine throwing a perfectly elastic ball from a height such that the ball hits the floor at the end of the time transition.\n",
    "\n",
    "\n",
    "\n",
    "\n",
    "# Methods:\n",
    "\n",
    "So our goal is to try to implement different MCMC methods on different data, and see how fast HMC, Gibbs, and MH (Metropolis-Hastings) can get samples, and the quality of the samples they obtain.\n",
    "\n",
    "To examine the “quality of the sample” that a MCMC algorithm produces, we look to examine their effective sample size. The effective sample size indicates how many independent draws we’ve made, using our MCMC algorithm, which uses dependent draws. To first make sure our algorithm works soundly, we examine how well our chains do on simulated data. \n",
    "\n",
    "We first do this on the conjugate normal-normal model. The model is conjugate so we know what the posterior mean and variance are, and we can check our chains to make sure they’re all behaving appropriately.\n",
    "\n",
    "\n",
    "## Normal-normal model\n",
    "\n",
    "\\begin{aligned}\n",
    "x_1 \\ldots x_n|\\mu &\\sim N(\\mu, 1) \n",
    "\\\\\n",
    "\\mu &\\propto 1\n",
    "\\\\\n",
    "\\mu|x_1 \\ldots x_n &\\sim N(\\bar{x}, 1/n)\n",
    "\\end{aligned}\n",
    "\n",
    "Our effective size for the normal normal model when we used HMC was around 824 samples, while our effective size when we used MH was around 330 sample sizes.\n",
    "\n",
    "The amount of time it took to run the HMC algorithm on average is 1381.025 milliseconds.  The MH algorithm took on average around 306.7682 milliseconds\n",
    "\n",
    "We're not suprised HMC had higher effective size and took longer, but in this case, it feels like MH is more efficicent at getting effective samples. If we had run MH for 3 times longer, we would have a higher effective size then HMC while taking less time to run.  \n",
    "\n",
    "## Multivariate Normal:\n",
    "\n",
    "We wanted to see if moving into higher dimensions would change the effectiveness of any of the samplers. So to do this we simulate our data so that they are drawn from a mixture of 20 normals with different means but the same variances. This is the same as drawing our data from one of many normal distributions, with some probability. We then try to infer the parameters of the original simulated data. We have 20 different means changing constantly so we're monitoring 20 chains in some sense.\n",
    "\n",
    "Our effective sample sizes are as follows for the different samplers:\n",
    "\n",
    "|Method     | Effective Sample Size$^1$|\n",
    "|:----------|---------------------:|\n",
    "|MH         |                   119|\n",
    "|HMC        |                 68820|\n",
    "\n",
    "The time it took to draw from MH 10000 times is roughly 355.0646 milliseconds on average. The time it took to draw 10000 times from HMC is  1993.171 milliseconds on average.\n",
    "\n",
    "We only have 10000 samples, but HMC seems to give an effective sample size that is much greater than that. We suspect this is because our variables are dependent but have negative autocorrelation. As a result, sampling the dependent variable multiple times is better than sampling an independent variable the same number of times. \n",
    "\n",
    "HMC has the highest effective sample size, and the highest effective sample size over time, but it also takes the longest to run out of all of our samplers.\n",
    "\n",
    "The MH sampler takes less time to run, but has an effective sample size that is much less than that of the HMC sampler. Our results here are much more different the very simple Normal-Normal model, and we believe that HMC has far greater returns in increasing effective sample size over time in higher dimensions, due to how sharply concentrated the posterior becomes. \n",
    "\n",
    "\n",
    "\n",
    "\n",
    "## Inverse Gamma\n",
    "\n",
    "We examine an inverse gamma model\n",
    "\n",
    "\n",
    "The effective size results are as follows:\n",
    "\n",
    "|Method     | Effective Sample Size|\n",
    "|:----------|---------------------:|\n",
    "|MH         |                1380.9|\n",
    "|Gibbs      |                8999.0|\n",
    "|HMC        |                4698.4|\n",
    "\n",
    "The time it took for each sampler to run is:\n",
    "\n",
    "## Digit Data\n",
    "\n",
    "\n",
    "\n",
    "\n",
    "\n",
    "\n",
    "\n",
    "# Concluding Remarks"
   ]
  },
  {
   "cell_type": "markdown",
   "metadata": {},
   "source": [
    "\n",
    "\n",
    "\n",
    "\n",
    "\n",
    "\n",
    "\n",
    "\n",
    "# Ignore everything under here\n",
    "\n",
    "\n",
    "\n",
    "\n",
    "\n",
    "\n",
    "\n",
    "\n",
    "\n",
    "\n",
    "\n",
    "\n",
    "\n",
    "\n",
    "\n",
    "## Normal-normal model\n",
    "\n",
    "\\begin{aligned}\n",
    "x_1 \\ldots x_n|\\mu &\\sim N(\\mu, 1) \n",
    "\\\\\n",
    "\\mu &\\propto 1\n",
    "\\\\\n",
    "\\mu|x_1 \\ldots x_n &\\sim N(\\bar{x}, 1/n)\n",
    "\\end{aligned}"
   ]
  },
  {
   "cell_type": "code",
   "execution_count": 13,
   "metadata": {},
   "outputs": [
    {
     "name": "stderr",
     "output_type": "stream",
     "text": [
      "Loading required package: MASS\n",
      "Warning message:\n",
      "\"package 'MASS' was built under R version 3.5.0\""
     ]
    },
    {
     "ename": "ERROR",
     "evalue": "Error: package 'MASS' was installed by an R version with different internals; it needs to be reinstalled for use with this R version\n",
     "output_type": "error",
     "traceback": [
      "Error: package 'MASS' was installed by an R version with different internals; it needs to be reinstalled for use with this R version\nTraceback:\n",
      "1. library(MCMCpack)",
      "2. .getRequiredPackages2(pkgInfo, quietly = quietly)",
      "3. library(pkg, character.only = TRUE, logical.return = TRUE, lib.loc = lib.loc, \n .     quietly = quietly)",
      "4. testFeatures(features, pkgInfo, package, pkgpath)",
      "5. stop(gettextf(\"package %s was installed by an R version with different internals; it needs to be reinstalled for use with this R version\", \n .     sQuote(pkgname)), call. = FALSE, domain = NA)"
     ]
    }
   ],
   "source": [
    "library(MCMCpack)"
   ]
  },
  {
   "cell_type": "code",
   "execution_count": 12,
   "metadata": {},
   "outputs": [
    {
     "name": "stderr",
     "output_type": "stream",
     "text": [
      "Loading required package: coda\n",
      "Warning message:\n",
      "\"package 'coda' was built under R version 3.5.0\"Loading required package: MASS\n",
      "Warning message:\n",
      "\"package 'MASS' was built under R version 3.5.0\""
     ]
    },
    {
     "ename": "ERROR",
     "evalue": "Error: package 'MASS' was installed by an R version with different internals; it needs to be reinstalled for use with this R version\n",
     "output_type": "error",
     "traceback": [
      "Error: package 'MASS' was installed by an R version with different internals; it needs to be reinstalled for use with this R version\nTraceback:\n",
      "1. library(MCMCpack)",
      "2. .getRequiredPackages2(pkgInfo, quietly = quietly)",
      "3. library(pkg, character.only = TRUE, logical.return = TRUE, lib.loc = lib.loc, \n .     quietly = quietly)",
      "4. testFeatures(features, pkgInfo, package, pkgpath)",
      "5. stop(gettextf(\"package %s was installed by an R version with different internals; it needs to be reinstalled for use with this R version\", \n .     sQuote(pkgname)), call. = FALSE, domain = NA)"
     ]
    }
   ],
   "source": [
    "library(MCMCpack)"
   ]
  },
  {
   "cell_type": "code",
   "execution_count": 10,
   "metadata": {
    "collapsed": true
   },
   "outputs": [],
   "source": [
    "source(\"metropolis_hastings.R\")\n",
    "source(\"hmc.R\")\n",
    "source(\"utility.R\")"
   ]
  },
  {
   "cell_type": "code",
   "execution_count": 21,
   "metadata": {},
   "outputs": [
    {
     "ename": "ERROR",
     "evalue": "Error: package or namespace load failed for 'microbenchmark' in inDL(x, as.logical(local), as.logical(now), ...):\n unable to load shared object 'C:/Users/Naveeeeed/Documents/R/win-library/3.4/Rcpp/libs/x64/Rcpp.dll':\n  LoadLibrary failure:  The specified procedure could not be found.\n\n",
     "output_type": "error",
     "traceback": [
      "Error: package or namespace load failed for 'microbenchmark' in inDL(x, as.logical(local), as.logical(now), ...):\n unable to load shared object 'C:/Users/Naveeeeed/Documents/R/win-library/3.4/Rcpp/libs/x64/Rcpp.dll':\n  LoadLibrary failure:  The specified procedure could not be found.\n\nTraceback:\n",
      "1. library(microbenchmark)",
      "2. tryCatch({\n .     attr(package, \"LibPath\") <- which.lib.loc\n .     ns <- loadNamespace(package, lib.loc)\n .     env <- attachNamespace(ns, pos = pos, deps)\n . }, error = function(e) {\n .     P <- if (!is.null(cc <- conditionCall(e))) \n .         paste(\" in\", deparse(cc)[1L])\n .     else \"\"\n .     msg <- gettextf(\"package or namespace load failed for %s%s:\\n %s\", \n .         sQuote(package), P, conditionMessage(e))\n .     if (logical.return) \n .         message(paste(\"Error:\", msg), domain = NA)\n .     else stop(msg, call. = FALSE, domain = NA)\n . })",
      "3. tryCatchList(expr, classes, parentenv, handlers)",
      "4. tryCatchOne(expr, names, parentenv, handlers[[1L]])",
      "5. value[[3L]](cond)",
      "6. stop(msg, call. = FALSE, domain = NA)"
     ]
    }
   ],
   "source": [
    "set.seed(1)\n",
    "source(\"normal-normal.R\")\n",
    "#install.packages(\"microbenchmark\")\n",
    "library(microbenchmark)\n",
    "\n",
    "n <- 100\n",
    "S <- 5000\n",
    "x <- rnorm(n, 0, 1)\n",
    "\n",
    "nn_mh <- metropolis_hastings(param_init = 3, \n",
    "                             likelihood = nn_likelihood(x),\n",
    "                             prior = nn_prior(),\n",
    "                             proposal = nn_proposal(sigma_mean = .5),\n",
    "                             prop_density = nn_prop_density(sigma_mean = .5, lambda_rate = 1),\n",
    "                             iters = S)\n",
    "microbenchmark(metropolis_hastings(param_init = 3, \n",
    "                             likelihood = nn_likelihood(x),\n",
    "                             prior = nn_prior(),\n",
    "                             proposal = nn_proposal(sigma_mean = .5),\n",
    "                             prop_density = nn_prop_density(sigma_mean = .5, lambda_rate = 1),\n",
    "                             iters = S))\n",
    "nn_hmc <- hmc(param_init = 3, \n",
    "                  U = nn_U(x), \n",
    "                  dU = nn_dU(x), \n",
    "                  e = 0.001, \n",
    "                  L = 50, \n",
    "                  iters = S)"
   ]
  },
  {
   "cell_type": "code",
   "execution_count": 5,
   "metadata": {},
   "outputs": [
    {
     "data": {
      "image/png": "[encoded data removed]",
      "text/plain": [
       "Plot with title \"Metropolis Hastings vs Analytical Posterior\""
      ]
     },
     "metadata": {},
     "output_type": "display_data"
    }
   ],
   "source": [
    "hist(nn_mh$samples[[1]][101:S, ], probability = TRUE, \n",
    "     main = \"Metropolis Hastings vs Analytical Posterior\", xlab = \"x\", breaks = 25)\n",
    "plot_grid <- seq(-.5, .5, .01)\n",
    "lines(plot_grid, dnorm(plot_grid, mean(x), sqrt(1 / n)))"
   ]
  },
  {
   "cell_type": "code",
   "execution_count": 6,
   "metadata": {},
   "outputs": [
    {
     "data": {
      "image/png": "[encoded data removed]",
      "text/plain": [
       "Plot with title \"Hamiltonian Monte Carlo vs Analytical Posterior\""
      ]
     },
     "metadata": {},
     "output_type": "display_data"
    }
   ],
   "source": [
    "hist(nn_hmc$samples[101:S,], probability = TRUE, \n",
    "     main = \"Hamiltonian Monte Carlo vs Analytical Posterior\", xlab = \"x\", breaks = 25)\n",
    "plot_grid <- seq(-.5, .5, .01)\n",
    "lines(plot_grid, dnorm(plot_grid, mean(x), sqrt(1 / n)))"
   ]
  },
  {
   "cell_type": "code",
   "execution_count": 7,
   "metadata": {},
   "outputs": [
    {
     "data": {
      "text/html": [
       "0.100865896255936"
      ],
      "text/latex": [
       "0.100865896255936"
      ],
      "text/markdown": [
       "0.100865896255936"
      ],
      "text/plain": [
       "[1] 0.1008659"
      ]
     },
     "metadata": {},
     "output_type": "display_data"
    },
    {
     "data": {
      "text/html": [
       "0.098517961887582"
      ],
      "text/latex": [
       "0.098517961887582"
      ],
      "text/markdown": [
       "0.098517961887582"
      ],
      "text/plain": [
       "[1] 0.09851796"
      ]
     },
     "metadata": {},
     "output_type": "display_data"
    }
   ],
   "source": [
    "sd(nn_mh$samples[[1]][101:S], na.rm = TRUE)\n",
    "sd(nn_hmc$samples[101:S], na.rm = TRUE)"
   ]
  },
  {
   "cell_type": "code",
   "execution_count": 8,
   "metadata": {},
   "outputs": [
    {
     "data": {
      "text/html": [
       "0.2444"
      ],
      "text/latex": [
       "0.2444"
      ],
      "text/markdown": [
       "0.2444"
      ],
      "text/plain": [
       "[1] 0.2444"
      ]
     },
     "metadata": {},
     "output_type": "display_data"
    },
    {
     "data": {
      "text/html": [
       "0.9998"
      ],
      "text/latex": [
       "0.9998"
      ],
      "text/markdown": [
       "0.9998"
      ],
      "text/plain": [
       "[1] 0.9998"
      ]
     },
     "metadata": {},
     "output_type": "display_data"
    }
   ],
   "source": [
    "nn_mh$accept_rate\n",
    "nn_hmc$accepts"
   ]
  },
  {
   "cell_type": "code",
   "execution_count": 16,
   "metadata": {},
   "outputs": [
    {
     "data": {
      "text/html": [
       "<strong>var1:</strong> 330.039834510105"
      ],
      "text/latex": [
       "\\textbf{var1:} 330.039834510105"
      ],
      "text/markdown": [
       "**var1:** 330.039834510105"
      ],
      "text/plain": [
       "    var1 \n",
       "330.0398 "
      ]
     },
     "metadata": {},
     "output_type": "display_data"
    },
    {
     "data": {
      "text/html": [
       "<strong>var1:</strong> 824.802021118513"
      ],
      "text/latex": [
       "\\textbf{var1:} 824.802021118513"
      ],
      "text/markdown": [
       "**var1:** 824.802021118513"
      ],
      "text/plain": [
       "   var1 \n",
       "824.802 "
      ]
     },
     "metadata": {},
     "output_type": "display_data"
    }
   ],
   "source": [
    "effectiveSize(nn_hmc$samples[101:S])\n",
    "effectiveSize(nn_mh$samples[[1]][101:S])"
   ]
  }
 ],
 "metadata": {
  "kernelspec": {
   "display_name": "R",
   "language": "R",
   "name": "ir"
  },
  "language_info": {
   "codemirror_mode": "r",
   "file_extension": ".r",
   "mimetype": "text/x-r-source",
   "name": "R",
   "pygments_lexer": "r",
   "version": "3.4.3"
  }
 },
 "nbformat": 4,
 "nbformat_minor": 2
}
