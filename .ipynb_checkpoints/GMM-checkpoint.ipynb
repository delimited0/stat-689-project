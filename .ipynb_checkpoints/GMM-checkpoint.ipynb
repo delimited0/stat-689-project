{
 "cells": [
  {
   "cell_type": "markdown",
   "metadata": {},
   "source": [
    "## Gaussian Mixture Model\n",
    "\n",
    "\\begin{aligned}\n",
    "\\pi &\\sim Dir(\\alpha)\n",
    "\\\\\n",
    "z_i &\\sim Cat(\\pi)\n",
    "\\\\\n",
    "x_i|z_i=k &\\sim N(\\mu_{k}, \\Sigma_{k}) \n",
    "\\\\\n",
    "\\mu_k|\\Sigma_k &\\sim N(\\mu_o,\\Sigma_k) \n",
    "\\\\\n",
    "\\Sigma_k &\\sim IW(S, v)\n",
    "\\end{aligned}\n",
    "\n",
    "for $i = 1 \\ldots n,\\; k = 1 \\dots K$."
   ]
  },
  {
   "cell_type": "code",
   "execution_count": 3,
   "metadata": {},
   "outputs": [
    {
     "ename": "ERROR",
     "evalue": "Error in parse(text = x, srcfile = src): <text>:4:0: unexpected end of input\n2: source(\"hmc.R\")\n3: source(\"utility.R\"\n  ^\n",
     "output_type": "error",
     "traceback": [
      "Error in parse(text = x, srcfile = src): <text>:4:0: unexpected end of input\n2: source(\"hmc.R\")\n3: source(\"utility.R\"\n  ^\nTraceback:\n"
     ]
    }
   ],
   "source": [
    "source(\"metropolis_hastings.R\")\n",
    "source(\"hmc.R\")\n",
    "source(\"utility.R\")"
   ]
  },
  {
   "cell_type": "code",
   "execution_count": 8,
   "metadata": {},
   "outputs": [
    {
     "name": "stderr",
     "output_type": "stream",
     "text": [
      "Warning message in install.packages(\"mvtnorm\", \"/Users/patrickding/anaconda3/lib/R/library\"):\n",
      "\"installation of package 'mvtnorm' had non-zero exit status\"Updating HTML index of packages in '.Library'\n",
      "Making 'packages.html' ... done\n"
     ]
    },
    {
     "ename": "ERROR",
     "evalue": "Error in library(mvtnorm): there is no package called 'mvtnorm'\n",
     "output_type": "error",
     "traceback": [
      "Error in library(mvtnorm): there is no package called 'mvtnorm'\nTraceback:\n",
      "1. source(\"gmm.R\")",
      "2. withVisible(eval(ei, envir))",
      "3. eval(ei, envir)",
      "4. eval(ei, envir)",
      "5. library(mvtnorm)",
      "6. stop(txt, domain = NA)"
     ]
    }
   ],
   "source": [
    "set.seed(1)\n",
    "install.packages('mvtnorm','/Users/patrickding/anaconda3/lib/R/library')\n",
    "source(\"gmm.R\")\n"
   ]
  },
  {
   "cell_type": "code",
   "execution_count": null,
   "metadata": {
    "collapsed": true
   },
   "outputs": [],
   "source": []
  }
 ],
 "metadata": {
  "kernelspec": {
   "display_name": "R",
   "language": "R",
   "name": "ir"
  },
  "language_info": {
   "codemirror_mode": "r",
   "file_extension": ".r",
   "mimetype": "text/x-r-source",
   "name": "R",
   "pygments_lexer": "r",
   "version": "3.4.2"
  }
 },
 "nbformat": 4,
 "nbformat_minor": 2
}
