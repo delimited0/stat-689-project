{
 "cells": [
  {
   "cell_type": "markdown",
   "metadata": {},
   "source": [
    "## Gaussian Mixture Model\n",
    "\n",
    "\\begin{aligned}\n",
    "\\pi &\\sim Dir(\\alpha)\n",
    "\\\\\n",
    "z_i &\\sim Cat(\\pi)\n",
    "\\\\\n",
    "x_i|z_i=k &\\sim N(\\mu_{k}, \\Sigma_{k}) \n",
    "\\\\\n",
    "\\mu_k|\\Sigma_k &\\sim N(\\mu_o,\\Sigma_k) \n",
    "\\\\\n",
    "\\Sigma_k &\\sim IW(S, v)\n",
    "\\end{aligned}\n",
    "\n",
    "for $i = 1 \\ldots n,\\; k = 1 \\dots K$."
   ]
  },
  {
   "cell_type": "code",
   "execution_count": null,
   "metadata": {
    "collapsed": true
   },
   "outputs": [],
   "source": []
  }
 ],
 "metadata": {
  "kernelspec": {
   "display_name": "Python 3",
   "language": "python",
   "name": "python3"
  },
  "language_info": {
   "codemirror_mode": {
    "name": "ipython",
    "version": 3
   },
   "file_extension": ".py",
   "mimetype": "text/x-python",
   "name": "python",
   "nbconvert_exporter": "python",
   "pygments_lexer": "ipython3",
   "version": "3.6.3"
  }
 },
 "nbformat": 4,
 "nbformat_minor": 2
}
