{
 "cells": [
  {
   "cell_type": "markdown",
   "metadata": {
    "slideshow": {
     "slide_type": "slide"
    }
   },
   "source": [
    "# Introduction to Hamiltonian Monte Carlo\n",
    "\n",
    "Patrick Ding, James Dole, Naveed Merchant"
   ]
  },
  {
   "cell_type": "markdown",
   "metadata": {
    "collapsed": true,
    "slideshow": {
     "slide_type": "slide"
    }
   },
   "source": [
    "# <center> Physics Recap </center>\n",
    "\n",
    "<br>\n",
    "\n",
    "* Kinetic energy - Energy an object has because it is in motion\n",
    "    - Example: A drop of rain falling\n",
    "    - Example: A wheel spinning"
   ]
  },
  {
   "cell_type": "markdown",
   "metadata": {
    "slideshow": {
     "slide_type": "fragment"
    }
   },
   "source": [
    "* Potential Energy - Energy an object has stored as a result of its position.\n",
    "    - Example: A person holding a coin above the ground. When the coin is dropped, the potential energy is converted   to kinetic energy and the coin falls.\n",
    "    - Example: The voltage measured across the terminals of a battery."
   ]
  },
  {
   "cell_type": "markdown",
   "metadata": {
    "slideshow": {
     "slide_type": "slide"
    }
   },
   "source": [
    "## <center> Physics Recap - Hamiltonian </center> \n",
    "\n",
    "<br>\n",
    "\n",
    "\\begin{aligned}\n",
    "H(q, p) = K + U\n",
    "\\end{aligned}\n",
    "\n",
    "* q - position\n",
    "* p - momentum"
   ]
  },
  {
   "cell_type": "markdown",
   "metadata": {
    "slideshow": {
     "slide_type": "fragment"
    }
   },
   "source": [
    "\\begin{aligned}\n",
    "H(q, p) = K + U\n",
    "\\end{aligned}\n",
    "\n",
    "\\begin{aligned}\n",
    "\\frac{dp}{dt} = - \\frac{\\partial H}{\\partial q} \\quad\\quad \\frac{dq}{dt} = \\frac{\\partial H}{\\partial p}\n",
    "\\end{aligned}\n",
    "\n"
   ]
  },
  {
   "cell_type": "markdown",
   "metadata": {
    "slideshow": {
     "slide_type": "slide"
    }
   },
   "source": [
    "## <center> Physics Recap - Hamiltonian Example</center> \n",
    "\n",
    "<br>\n",
    "\n",
    "\n",
    "Example: object in free fall \n",
    "\n",
    "![freefall](images/freefall.png)\n",
    "\n",
    "\n",
    "\n"
   ]
  },
  {
   "cell_type": "markdown",
   "metadata": {
    "slideshow": {
     "slide_type": "slide"
    }
   },
   "source": [
    "## <center> Physics Recap - Hamiltonian Example</center> \n",
    "\n",
    "<br>\n",
    "\n",
    "\\begin{align}\n",
    "H &= K + U\n",
    "\\\\\n",
    "&= \\frac{1}{2}mv^2 + mgh\n",
    "\\\\\n",
    "&= \\frac{1}{2}m\\bigg(\\frac{p}{m}\\bigg)^2 + mgq\n",
    "\\\\\n",
    "&= \\frac{p^2}{2m} + mgq\n",
    "\\end{align}"
   ]
  },
  {
   "cell_type": "markdown",
   "metadata": {
    "slideshow": {
     "slide_type": "slide"
    }
   },
   "source": [
    "## <center> Physics Recap - Hamiltonian Example</center> \n",
    "\n",
    "<br>\n",
    "\n",
    "\\begin{aligned}\n",
    "H = \\frac{p^2}{2m} + mgq \n",
    "\\end{aligned}\n",
    "\n",
    "\\begin{aligned}\n",
    "\\\\\n",
    "\\frac{dp}{dt} = - \\frac{\\partial H}{\\partial q} & &\\frac{dq}{dt} = \\frac{\\partial H}{\\partial p}\n",
    "\\\\\n",
    "\\frac{dp}{dt} = -mg & & \\frac{dq}{dt} = \\frac{p}{m}\n",
    "\\end{aligned}"
   ]
  },
  {
   "cell_type": "markdown",
   "metadata": {
    "slideshow": {
     "slide_type": "fragment"
    }
   },
   "source": [
    "\\begin{aligned}\n",
    "\\frac{d(mv)}{dt} = -mg & & v = \\frac{p}{m}\n",
    "\\\\\n",
    "ma = -mg & & v = \\frac{mv}{m}\n",
    "\\\\\n",
    "a = -g & & v = v\n",
    "\\end{aligned}"
   ]
  },
  {
   "cell_type": "markdown",
   "metadata": {
    "slideshow": {
     "slide_type": "slide"
    }
   },
   "source": [
    "## <center> Leapfrog Algorithm </center> \n",
    "\n",
    "<br>\n",
    "\n",
    "Now we have $p(q,t)$ and $q(p,t)$.\n",
    "\n",
    "Need to approximate with discrete time steps\n",
    "\n",
    "Naive approach: \n",
    "\n",
    "\\begin{aligned}\n",
    "p(t + \\epsilon) = p(t) + \\frac{dp}{dt} \\epsilon\n",
    "\\\\\n",
    "q(t + \\epsilon) = q(t) + \\frac{dq}{dt} \\epsilon\n",
    "\\end{aligned}\n",
    "\n",
    "Issues with convergence. $p$ and $q$ depend on each other"
   ]
  },
  {
   "cell_type": "markdown",
   "metadata": {
    "slideshow": {
     "slide_type": "slide"
    }
   },
   "source": [
    "## <center> Leapfrog Algorithm </center> \n",
    "\n",
    "<br>\n",
    "\n",
    "Leapfrog Algorithm:\n",
    "\n",
    "\\begin{aligned}\n",
    "p(t + 0.5 \\epsilon) = p(t) + \\frac{dp}{dt} 0.5\\epsilon\n",
    "\\\\\n",
    "q(t + \\epsilon) = q(t) + \\frac{dq}{dt} \\epsilon\n",
    "\\\\\n",
    "p(t + \\epsilon) = p(t + 0.5 \\epsilon) + \\frac{dp}{dt} 0.5 \\epsilon\n",
    "\\end{aligned}\n",
    "\n",
    "Better convergence! Only one extra step is needed."
   ]
  },
  {
   "cell_type": "markdown",
   "metadata": {
    "slideshow": {
     "slide_type": "slide"
    }
   },
   "source": [
    "## <center> Introduction to Hamiltonian Monte Carlo </center> \n",
    "\n",
    "<br>\n",
    "\n",
    "Suppose we wish to sample from $D$ dimensions $(q_1, q_2, \\ldots, q_D)$\n",
    "\n",
    "We can cleverly construct $D$ addition dimensions $(p_1, p_2, \\ldots, p_D)$\n",
    "\n",
    "\\begin{aligned}\n",
    "\\pi(q,p) &= \\exp(-H(q,p))\n",
    "\\\\\n",
    "H(q,p) &= -\\log(\\pi(q,p))\n",
    "\\\\\n",
    "H(q,p) &= -\\log(\\pi(p|q) \\pi(q))\n",
    "\\\\\n",
    "H(q,p) &= -\\log(\\pi(p|q)) - log(\\pi(q))\n",
    "\\\\\n",
    "H(q,p) &= K(p,q) + U(q)\n",
    "\\end{aligned}"
   ]
  },
  {
   "cell_type": "markdown",
   "metadata": {
    "slideshow": {
     "slide_type": "slide"
    }
   },
   "source": [
    "## <center> Introduction to Hamiltonian Monte Carlo </center> \n",
    "\n",
    "<br>\n",
    "\n",
    "\\begin{aligned}\n",
    "H(q,p) &= K(p,q) + U(q)\n",
    "\\\\\n",
    "H(q,p) &= K(p) + U(q)\n",
    "\\\\\n",
    "\\pi(q, p) &= e^{-K(p) - U(q)} \n",
    "\\\\\n",
    "&= e^{-K(p)}e^{-U(q)}\n",
    "\\end{aligned}\n",
    "\n",
    "To find marginal distribution of $q$, drop $p$"
   ]
  },
  {
   "cell_type": "markdown",
   "metadata": {
    "slideshow": {
     "slide_type": "slide"
    }
   },
   "source": [
    "## <center> Hamiltonian Monte Carlo Algorithm </center> \n",
    "\n",
    "<br>\n",
    "\n",
    "#### 1. Transform density into potential energy\n",
    "\n",
    "$U = -\\log(f)$\n",
    "\n",
    "![potential](images/potentialexample.png)\n"
   ]
  },
  {
   "cell_type": "markdown",
   "metadata": {
    "slideshow": {
     "slide_type": "slide"
    }
   },
   "source": [
    "## <center> Hamiltonian Monte Carlo Algorithm </center> \n",
    "\n",
    "1 Transform density into potential energy\n",
    "\n",
    "2 Solve Hamilton's equations. Let $K = \\frac{1}{2}mv^2$. Calculate $\\frac{\\partial U}{\\partial q}$"
   ]
  },
  {
   "cell_type": "markdown",
   "metadata": {
    "slideshow": {
     "slide_type": "fragment"
    }
   },
   "source": [
    "3 Initialize $q_o$"
   ]
  },
  {
   "cell_type": "markdown",
   "metadata": {
    "slideshow": {
     "slide_type": "fragment"
    }
   },
   "source": [
    "4 Sample p (e.g. MVN)"
   ]
  },
  {
   "cell_type": "markdown",
   "metadata": {
    "slideshow": {
     "slide_type": "fragment"
    }
   },
   "source": [
    "5 Calculate proposal p and q. Use leapfrog algorithm"
   ]
  },
  {
   "cell_type": "markdown",
   "metadata": {
    "slideshow": {
     "slide_type": "fragment"
    }
   },
   "source": [
    "6 Accept-reject according to $\\min\\big(1, e^{(H_{new} - H_{old})}\\big)$"
   ]
  },
  {
   "cell_type": "markdown",
   "metadata": {
    "slideshow": {
     "slide_type": "slide"
    }
   },
   "source": [
    "## <center> HMC connection to MH </center> \n",
    "\n",
    "<br>\n",
    "\n",
    "HMC is like an \"intelligent\" MH algorithm\n",
    "\n",
    "Proposal is symmetric and reversible if we negate $p_{new}$, which does not affect Hamiltonian\n",
    "\n",
    "\\begin{aligned}\n",
    "\\min\\bigg(1, \\frac{\\pi(p_{new}, q_{new})}{\\pi(p_{old}, q_{old})}\\bigg) &= \n",
    "    \\min\\bigg(1, \\frac{e^{-H_{new}}}{e^{-H_{old}}}\\bigg)\n",
    "\\\\\n",
    "&= \\min\\big(1, e^{(H_{new} - H_{old})}\\big)\n",
    "\\end{aligned}\n"
   ]
  },
  {
   "cell_type": "markdown",
   "metadata": {
    "slideshow": {
     "slide_type": "slide"
    }
   },
   "source": [
    "## <center> HMC Example - Multivariate Normal </center> \n",
    "\n",
    "<br>\n",
    "\n",
    "\\begin{aligned}\n",
    "X &\\sim N(\\mu, \\Sigma)\n",
    "\\\\\n",
    "\\mu &= (10, 9, \\ldots, 0, \\ldots, -9, -10)^T \n",
    "\\\\\n",
    "\\Sigma &= \\frac{1}{2}I_{20}\n",
    "\\end{aligned}\n"
   ]
  },
  {
   "cell_type": "markdown",
   "metadata": {
    "slideshow": {
     "slide_type": "slide"
    }
   },
   "source": [
    "## <center> HMC MVN: MH Trace Plots </center> \n",
    "\n",
    "![potential](images/xtracker10k.png)"
   ]
  },
  {
   "cell_type": "markdown",
   "metadata": {
    "slideshow": {
     "slide_type": "slide"
    }
   },
   "source": [
    "## <center> HMC MVN: HMC Trace Plots </center> \n",
    "\n",
    "![potential](images/qtracker10k.png)"
   ]
  },
  {
   "cell_type": "markdown",
   "metadata": {
    "slideshow": {
     "slide_type": "slide"
    }
   },
   "source": [
    "## <center> HMC MVN: MH Autocorrelation</center> \n",
    "\n",
    "![potential](images/d21acfx.png)\n"
   ]
  },
  {
   "cell_type": "markdown",
   "metadata": {
    "slideshow": {
     "slide_type": "slide"
    }
   },
   "source": [
    "## <center> HMC MVN: HMC Autocorrelation </center> \n",
    "\n",
    "![potential](images/d21acfq.png)"
   ]
  },
  {
   "cell_type": "markdown",
   "metadata": {
    "slideshow": {
     "slide_type": "slide"
    }
   },
   "source": [
    "## <center> HMC MVN: Effective Sample Size </center> \n",
    "\n",
    "<br>\n",
    "\n",
    "* 7500 samples\n",
    "* 2500 burn in\n",
    "* Negative autocorrelation\n",
    "\n",
    "|Method     | Effective Sample Size$^1$|\n",
    "|:----------|---------------------:|\n",
    "|MH         |                   119|\n",
    "|HMC        |                 68820|\n",
    "\n",
    "1. ESS averaged over for the dimensions"
   ]
  },
  {
   "cell_type": "markdown",
   "metadata": {
    "slideshow": {
     "slide_type": "slide"
    }
   },
   "source": [
    "## <center> HMC Example - Normal Inverse Gamma </center> \n",
    "\n",
    "<br>\n",
    "\n",
    "\\begin{aligned}\n",
    "x_1 \\ldots x_n|\\mu &\\sim N(\\mu, \\sigma^2)\n",
    "\\\\\n",
    "\\pi(\\mu, \\sigma^2) &\\propto \\frac{1}{\\sigma^2}\n",
    "\\\\\n",
    "\\mu, \\sigma^2 | x_1 \\ldots x_n &\\sim \n",
    "  N\\text{-}\\Gamma^{-1}(\\tau = \\bar{x}, \\lambda = n, \n",
    "  \\alpha = (n+4)/2, \\beta = \\frac{1}{2}(\\sum x_i^2 - n\\bar{x}^2))\n",
    "\\\\\n",
    "\\sigma^2|x_1 \\ldots x_n &\\sim \\Gamma^{-1}(\\alpha, \\beta)\n",
    "\\\\\n",
    "\\mu | x_1 \\ldots x_n &\\sim t_{2\\alpha}\\big(\\tau, \\beta/(\\alpha\\lambda)\\big)\n",
    "\\end{aligned}"
   ]
  },
  {
   "cell_type": "markdown",
   "metadata": {
    "slideshow": {
     "slide_type": "slide"
    }
   },
   "source": [
    "## <center> HMC Example - Normal Inverse Gamma </center> \n",
    "\n",
    "<img src=\"images/nig_trace.png\" style=\"width: 500px;\">"
   ]
  },
  {
   "cell_type": "markdown",
   "metadata": {
    "slideshow": {
     "slide_type": "slide"
    }
   },
   "source": [
    "|Method     | Effective Sample Size|\n",
    "|:----------|---------------------:|\n",
    "|MH         |                1380.9|\n",
    "|Gibbs      |                8999.0|\n",
    "|HMC        |                4698.4|\n",
    "\n",
    "<img src=\"images/nig_dens.png\" style=\"width: 500px;\">"
   ]
  }
 ],
 "metadata": {
  "celltoolbar": "Slideshow",
  "kernelspec": {
   "display_name": "R",
   "language": "R",
   "name": "ir"
  },
  "language_info": {
   "codemirror_mode": "r",
   "file_extension": ".r",
   "mimetype": "text/x-r-source",
   "name": "R",
   "pygments_lexer": "r",
   "version": "3.4.2"
  }
 },
 "nbformat": 4,
 "nbformat_minor": 2
}
